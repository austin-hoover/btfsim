{
 "cells": [
  {
   "cell_type": "markdown",
   "id": "5e7a588b-bee5-4738-be93-26e8ec1852a8",
   "metadata": {},
   "source": [
    "# Simulation analysis "
   ]
  },
  {
   "cell_type": "code",
   "execution_count": null,
   "id": "191f7176-fd50-443c-bbdc-5aacfcce6bd7",
   "metadata": {},
   "outputs": [],
   "source": [
    "import sys\n",
    "import os\n",
    "from os.path import join\n",
    "from tqdm.notebook import tqdm\n",
    "from tqdm.notebook import trange\n",
    "import importlib\n",
    "import numpy as np\n",
    "import pandas as pd\n",
    "import seaborn as sns\n",
    "import matplotlib.pyplot as plt\n",
    "import proplot as pplt\n",
    "from ipywidgets import widgets\n",
    "from ipywidgets import interactive\n",
    "\n",
    "from utils import load_bunch\n",
    "from utils import load_history\n",
    "\n",
    "sys.path.append('/Users/46h/Research/')\n",
    "from beamphys import plotting as mplt\n",
    "from beamphys import utils\n",
    "\n",
    "pplt.rc['grid'] = False\n",
    "pplt.rc['cmap.discrete'] = False\n",
    "pplt.rc['cmap.sequential'] = 'viridis'\n",
    "pplt.rc['figure.facecolor'] = 'white'\n",
    "pplt.rc['savefig.dpi'] = 150\n",
    "# pplt.rc['pdf.fonttype'] = 42"
   ]
  },
  {
   "cell_type": "markdown",
   "id": "854fec04-6d53-4f83-9a35-b174bb387758",
   "metadata": {},
   "source": [
    "## Load data"
   ]
  },
  {
   "cell_type": "code",
   "execution_count": null,
   "id": "e54477c2-a631-4e00-aa6c-a45c9a99c0e3",
   "metadata": {},
   "outputs": [],
   "source": [
    "folder = '/Users/46h/Dropbox (ORNL)/work/btf/simulations/2022-09-20/42mA/'\n",
    "os.listdir(folder)"
   ]
  },
  {
   "cell_type": "code",
   "execution_count": null,
   "id": "f743ed05-ee73-4cf7-bc48-704cf9b5f3fa",
   "metadata": {},
   "outputs": [],
   "source": [
    "prefix = '220920164350-run_btf-0-HZ04'\n",
    "node = 'HZ04'"
   ]
  },
  {
   "cell_type": "code",
   "execution_count": null,
   "id": "62b886de-1487-484c-906b-51fa87e0cdeb",
   "metadata": {},
   "outputs": [],
   "source": [
    "filenames = {\n",
    "    'bunch': join(folder, prefix + f'_bunch_{node}.dat'),\n",
    "    'history': join(folder, prefix + '_history.dat'),\n",
    "}"
   ]
  },
  {
   "cell_type": "code",
   "execution_count": null,
   "id": "41fd46d5-b0c6-4cea-afda-756d1ad3570e",
   "metadata": {},
   "outputs": [],
   "source": [
    "history = load_history(filenames['history'])"
   ]
  },
  {
   "cell_type": "code",
   "execution_count": null,
   "id": "9690a89a-53d9-43c6-8a9c-94f1c2d2b97d",
   "metadata": {},
   "outputs": [],
   "source": [
    "X = load_bunch(filenames['bunch'])\n",
    "print('X.shape =', X.shape)"
   ]
  },
  {
   "cell_type": "markdown",
   "id": "6f9d1d89-0a8f-476b-9ad0-cae148d4df27",
   "metadata": {},
   "source": [
    "## Plot bunch "
   ]
  },
  {
   "cell_type": "code",
   "execution_count": null,
   "id": "304e9574-a80a-4edc-af7f-6a873abd0d12",
   "metadata": {},
   "outputs": [],
   "source": [
    "dims = [\"x\", \"x'\", \"y\", \"y'\", \"z\", \"dE\"]\n",
    "units = [\"mm\", \"mrad\", \"mm\", \"mrad\", \"mm\", \"keV\"]\n",
    "labels = [f'{d} [{u}]' for d, u in zip(dims, units)]"
   ]
  },
  {
   "cell_type": "markdown",
   "id": "edf4303d-057d-47c2-b0d0-3cfe44a7f1a0",
   "metadata": {},
   "source": [
    "Corner plot of 2D projections."
   ]
  },
  {
   "cell_type": "code",
   "execution_count": null,
   "id": "420e09f4-2986-4b3b-acbe-5090c27f3e1b",
   "metadata": {},
   "outputs": [],
   "source": [
    "cmap = pplt.Colormap('mono', left=0.065, right=0.9)\n",
    "cmap"
   ]
  },
  {
   "cell_type": "code",
   "execution_count": null,
   "id": "378051a4-9d91-4a8a-b787-fb326a3afb39",
   "metadata": {},
   "outputs": [],
   "source": [
    "axes = mplt.corner(\n",
    "    X, labels=labels, kind='hist',\n",
    "    mask_zero=True,\n",
    "    cmap=cmap,\n",
    ")\n",
    "axes.format(xlabel_kw=dict(fontsize='large'), ylabel_kw=dict(fontsize='large'))\n",
    "plt.savefig(f'_output/{prefix}_{node}_corner.png')"
   ]
  },
  {
   "cell_type": "markdown",
   "id": "4ba60b60-d617-4b05-95c6-5ebf649e78a0",
   "metadata": {},
   "source": [
    "Interactive plots."
   ]
  },
  {
   "cell_type": "code",
   "execution_count": null,
   "id": "59832832-5d28-46ea-9d14-c9f85f764e3d",
   "metadata": {},
   "outputs": [],
   "source": [
    "prof_kws=dict(lw=0.4, alpha=0.5, color='white', scale=0.09)\n",
    "\n",
    "mplt.interactive_proj2d_discrete(\n",
    "    X,\n",
    "    nbins=33,\n",
    "    dims=dims,\n",
    "    units=units,\n",
    "    prof_kws=prof_kws,\n",
    ")"
   ]
  },
  {
   "cell_type": "markdown",
   "id": "88d1ae75-1baa-4051-983f-96c9e286b075",
   "metadata": {},
   "source": [
    "5D distribution (beware large grids)"
   ]
  },
  {
   "cell_type": "code",
   "execution_count": null,
   "id": "6c76381d-2e02-45cb-a0a2-31da489c2689",
   "metadata": {},
   "outputs": [],
   "source": [
    "ind = (0, 1, 2, 3, 4)\n",
    "_dims = [dims[i] for i in ind]\n",
    "_units = [units[i] for i in ind]\n",
    "_labels = [labels[i] for i in ind]\n",
    "\n",
    "f, edges = np.histogramdd(X[:, ind], bins=34)\n",
    "f = f / np.max(f)\n",
    "\n",
    "_coords = [utils.get_bin_centers(e) for e in edges]"
   ]
  },
  {
   "cell_type": "code",
   "execution_count": null,
   "id": "e2f92a7b-3f33-441c-9667-a72cbd80bc8d",
   "metadata": {},
   "outputs": [],
   "source": [
    "mplt.interactive_proj1d(f, coords=_coords, dims=_dims, units=_units,\n",
    "                        slice_type='int')"
   ]
  },
  {
   "cell_type": "code",
   "execution_count": null,
   "id": "fffce837-4427-4d32-b70f-31734ead8286",
   "metadata": {},
   "outputs": [],
   "source": [
    "mplt.interactive_proj2d(f, coords=_coords, dims=_dims, units=_units,\n",
    "                        slice_type='int')"
   ]
  },
  {
   "cell_type": "code",
   "execution_count": null,
   "id": "8103137b-706c-4652-917a-2a111ade7062",
   "metadata": {},
   "outputs": [],
   "source": [
    "axis = (0, 2, 4)\n",
    "_f = utils.project(f, axis=axis)\n",
    "_f = _f / np.max(_f)\n",
    "__coords = [_coords[i] for i in axis]\n",
    "__dims = [_dims[i] for i in axis]\n",
    "__dims[-1] = 'w'\n",
    "__units = [_units[i] for i in axis]\n",
    "__dims_units = [f'{d} [{u}]' for d, u in zip(__dims, __units)]\n",
    "\n",
    "ncols = 5\n",
    "start_stop = [\n",
    "    (4, len(__coords[0]) - 1 - 4),\n",
    "    (10, len(__coords[1]) - 1 - 10),\n",
    "    (25, len(__coords[2]) - 1 - 25),\n",
    "]\n",
    "\n",
    "cmap = 'viridis'\n",
    "for i, ((start, stop), c) in enumerate(zip(start_stop, __coords)):\n",
    "    fig, axes = pplt.subplots(ncols=ncols, nrows=1, figwidth=6.0)\n",
    "    jj = np.linspace(start, stop, ncols).astype(int)\n",
    "    for ax, j in zip(axes, jj):\n",
    "        idx = utils.make_slice(_f.ndim, i, int(j))\n",
    "        axis_view = [k for k in range(_f.ndim) if k != i]\n",
    "        mplt.plot_image(\n",
    "            _f[idx], \n",
    "            x=__coords[axis_view[0]], \n",
    "            y=__coords[axis_view[1]], \n",
    "            ax=ax,\n",
    "            vmin=0.0, vmax=1.0,\n",
    "            linewidth=0, rasterized=True,\n",
    "            cmap=cmap,\n",
    "            # colorbar=ax==axes[-1], \n",
    "            colorbar_kw=dict(\n",
    "                width=0.1, \n",
    "                # ticks=[0, 1],\n",
    "            ),\n",
    "            profx=True, profy=True, prof_kws=dict(lw=0.4, alpha=0.5, color='white', scale=0.09),\n",
    "        )\n",
    "        if ax.get_xlim()[1] < ax.get_xlim()[0]:\n",
    "            ax.format(xlim=sorted(ax.get_xlim()))\n",
    "        ax.annotate(r\"${} \\approx {:.0f}$ [{}]\".format(__dims[i], __coords[i][j], __units[i]), \n",
    "                    color='white', \n",
    "                    fontsize='small',\n",
    "                    xy=(0.02, 0.98), verticalalignment='top', xycoords='axes fraction')\n",
    "    axes.format(\n",
    "        xlabel=__dims_units[axis_view[0]], \n",
    "        ylabel=__dims_units[axis_view[1]],\n",
    "    )\n",
    "    plt.savefig(f'_output/{__dims[axis_view[0]]}{__dims[axis_view[1]]}_{__dims[i]}slice_{cmap}')\n",
    "    plt.show()"
   ]
  },
  {
   "cell_type": "markdown",
   "id": "633db21f-7fbc-4b85-9a00-400ba4282dad",
   "metadata": {},
   "source": [
    "## Plot history"
   ]
  },
  {
   "cell_type": "code",
   "execution_count": null,
   "id": "e566861f-0d1c-4e8f-9693-3b67482a12ba",
   "metadata": {},
   "outputs": [],
   "source": [
    "history.head()"
   ]
  },
  {
   "cell_type": "code",
   "execution_count": null,
   "id": "c2440a90-9b6b-41c8-a53a-87e3b8efa78c",
   "metadata": {},
   "outputs": [],
   "source": [
    "fig, ax = pplt.subplots(figsize=(3, 2))\n",
    "ax.plot(history['s'], history['eps_x'] / history.loc[0, 'eps_x'], label=r'$\\varepsilon_x$')\n",
    "ax.plot(history['s'], history['eps_y'] / history.loc[0, 'eps_y'], label=r'$\\varepsilon_y$')\n",
    "ax.plot(history['s'], history['eps_z'] / history.loc[0, 'eps_z'], label=r'$\\varepsilon_z$')\n",
    "ax.legend(ncols=1, handlelength=1.5)\n",
    "ax.format(xlabel='s [m]', ylabel='Relative emittance growth')\n",
    "plt.savefig('_output/eps_rms.png')\n",
    "plt.show()"
   ]
  },
  {
   "cell_type": "code",
   "execution_count": null,
   "id": "770dee48-7b42-42c8-b7ed-3ad6053ba0c1",
   "metadata": {},
   "outputs": [],
   "source": []
  }
 ],
 "metadata": {
  "kernelspec": {
   "display_name": "Python 3 (ipykernel)",
   "language": "python",
   "name": "python3"
  },
  "language_info": {
   "codemirror_mode": {
    "name": "ipython",
    "version": 3
   },
   "file_extension": ".py",
   "mimetype": "text/x-python",
   "name": "python",
   "nbconvert_exporter": "python",
   "pygments_lexer": "ipython3",
   "version": "3.9.12"
  }
 },
 "nbformat": 4,
 "nbformat_minor": 5
}
