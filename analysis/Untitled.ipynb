{
 "cells": [
  {
   "cell_type": "code",
   "execution_count": null,
   "id": "191f7176-fd50-443c-bbdc-5aacfcce6bd7",
   "metadata": {},
   "outputs": [],
   "source": [
    "import sys\n",
    "import os\n",
    "from os.path import join\n",
    "from tqdm.notebook import tqdm\n",
    "from tqdm.notebook import trange\n",
    "import importlib\n",
    "import numpy as np\n",
    "import pandas as pd\n",
    "import seaborn as sns\n",
    "import matplotlib.pyplot as plt\n",
    "import proplot as pplt\n",
    "from ipywidgets import widgets\n",
    "from ipywidgets import interactive\n",
    "\n",
    "sys.path.append('/Users/46h/Research/')\n",
    "from beamphys import plotting as mplt\n",
    "from beamphys import utils\n",
    "\n",
    "pplt.rc['grid'] = False\n",
    "pplt.rc['cmap.discrete'] = False\n",
    "pplt.rc['cmap.sequential'] = 'viridis'\n",
    "# pplt.rc['pdf.fonttype'] = 42"
   ]
  },
  {
   "cell_type": "markdown",
   "id": "854fec04-6d53-4f83-9a35-b174bb387758",
   "metadata": {},
   "source": [
    "## Load data"
   ]
  },
  {
   "cell_type": "code",
   "execution_count": null,
   "id": "e54477c2-a631-4e00-aa6c-a45c9a99c0e3",
   "metadata": {},
   "outputs": [],
   "source": [
    "bunch_filename = '/Users/46h/Research/btfsim/data/bunch/realisticLEBT_50mA_42mA_8555k.dat'"
   ]
  },
  {
   "cell_type": "code",
   "execution_count": null,
   "id": "46cde00a-0b94-4b1b-8519-ad4cf6d7e337",
   "metadata": {},
   "outputs": [],
   "source": [
    "def load_bunch(filename, dframe=False):\n",
    "    df = pd.read_table(filename, sep=' ', skiprows=14, usecols=range(0, 6), \n",
    "                       names=['x', 'xp', 'y', 'yp', 'z', 'dE'])\n",
    "    if dframe:\n",
    "        return df\n",
    "    return df.values\n",
    "\n",
    "def read_history(filename):\n",
    "    file = open(filename, 'r')\n",
    "    names = file.readlines()[0].split(',')\n",
    "    names = [name.lstrip().split('[')[0].rstrip() for name in names]\n",
    "    file.close()\n",
    "    df = pd.read_table(filename, sep=' ', skiprows=1, names=names, usecols=range(len(names)))\n",
    "    return df"
   ]
  },
  {
   "cell_type": "code",
   "execution_count": null,
   "id": "9690a89a-53d9-43c6-8a9c-94f1c2d2b97d",
   "metadata": {},
   "outputs": [],
   "source": [
    "X = load_bunch(bunch_filename)\n",
    "X = X * 1000.0  # mm, mrad, mm, mrad, mm, MeV\n",
    "X5d = X[:, [0, 1, 2, 3, 5]]  # x, x', y, y', energy"
   ]
  },
  {
   "cell_type": "code",
   "execution_count": null,
   "id": "304e9574-a80a-4edc-af7f-6a873abd0d12",
   "metadata": {},
   "outputs": [],
   "source": [
    "dims = [\"x\", \"x'\", \"y\", \"y'\", \"z\", \"z'\"]\n",
    "units = [\"mm\", \"mrad\", \"mm\", \"mrad\", \"mm\", \"MeV\"]\n",
    "labels = [f'{d} [{u}]' for d, u in zip(dims, units)]"
   ]
  },
  {
   "cell_type": "code",
   "execution_count": null,
   "id": "378051a4-9d91-4a8a-b787-fb326a3afb39",
   "metadata": {},
   "outputs": [],
   "source": [
    "axes = mplt.corner(X, labels=labels, mask_zero=True)"
   ]
  },
  {
   "cell_type": "code",
   "execution_count": null,
   "id": "6c76381d-2e02-45cb-a0a2-31da489c2689",
   "metadata": {},
   "outputs": [],
   "source": [
    "_dims = [dims[i] for i in (0, 1, 2, 3, 5)]\n",
    "_units = [units[i] for i in (0, 1, 2, 3, 5)]\n",
    "_labels = [labels[i] for i in (0, 1, 2, 3, 5)]\n",
    "\n",
    "f, edges = np.histogramdd(X5d, bins=50)\n",
    "f = f / np.max(f)\n",
    "_coords = [utils.get_bin_centers(e) for e in edges]"
   ]
  },
  {
   "cell_type": "code",
   "execution_count": null,
   "id": "fffce837-4427-4d32-b70f-31734ead8286",
   "metadata": {},
   "outputs": [],
   "source": [
    "mplt.interactive_proj2d(f, coords=_coords, dims=_dims, units=_units)"
   ]
  },
  {
   "cell_type": "code",
   "execution_count": null,
   "id": "a7cb4b0c-f577-4240-b607-0c1ba61c1c73",
   "metadata": {},
   "outputs": [],
   "source": []
  }
 ],
 "metadata": {
  "kernelspec": {
   "display_name": "Python 3 (ipykernel)",
   "language": "python",
   "name": "python3"
  },
  "language_info": {
   "codemirror_mode": {
    "name": "ipython",
    "version": 3
   },
   "file_extension": ".py",
   "mimetype": "text/x-python",
   "name": "python",
   "nbconvert_exporter": "python",
   "pygments_lexer": "ipython3",
   "version": "3.9.12"
  }
 },
 "nbformat": 4,
 "nbformat_minor": 5
}
