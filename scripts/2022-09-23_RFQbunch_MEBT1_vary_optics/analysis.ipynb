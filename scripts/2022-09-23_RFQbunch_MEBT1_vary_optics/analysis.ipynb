{
 "cells": [
  {
   "cell_type": "markdown",
   "id": "5e7a588b-bee5-4738-be93-26e8ec1852a8",
   "metadata": {},
   "source": [
    "# 2022-09-23 analysis"
   ]
  },
  {
   "cell_type": "markdown",
   "id": "b9e8f5b2-d941-4f43-ab37-70c29fbb5fd6",
   "metadata": {},
   "source": [
    "This study examines the dependence of the x-y-z hollowing on the MEBT optics (QV01, QH02, QV03, QH04)."
   ]
  },
  {
   "cell_type": "code",
   "execution_count": 1,
   "id": "191f7176-fd50-443c-bbdc-5aacfcce6bd7",
   "metadata": {},
   "outputs": [],
   "source": [
    "import sys\n",
    "import os\n",
    "from tqdm.notebook import tqdm\n",
    "from tqdm.notebook import trange\n",
    "import importlib\n",
    "import numpy as np\n",
    "import pandas as pd\n",
    "import seaborn as sns\n",
    "import matplotlib.pyplot as plt\n",
    "import proplot as pplt\n",
    "from ipywidgets import widgets\n",
    "from ipywidgets import interactive\n",
    "\n",
    "sys.path.append('/Users/46h/Research/')\n",
    "from btfsim.analysis.utils import load_bunch\n",
    "from btfsim.analysis.utils import load_history\n",
    "from beamphys import plotting as mplt\n",
    "from beamphys import utils\n",
    "from beamphys import image as bi\n",
    "from beamphys import dist as bd"
   ]
  },
  {
   "cell_type": "markdown",
   "id": "8eb3ff7e-abec-4bfd-a127-d17fca6d94fb",
   "metadata": {},
   "source": [
    "## Settings"
   ]
  },
  {
   "cell_type": "code",
   "execution_count": 2,
   "id": "d8f663d3-b301-4222-948e-d5cc5c9329a1",
   "metadata": {},
   "outputs": [],
   "source": [
    "pplt.rc['grid'] = False\n",
    "pplt.rc['cmap.discrete'] = False\n",
    "pplt.rc['cmap.sequential'] = 'viridis'\n",
    "pplt.rc['figure.facecolor'] = 'white'\n",
    "pplt.rc['savefig.dpi'] = 300\n",
    "# pplt.rc['pdf.fonttype'] = 42"
   ]
  },
  {
   "cell_type": "code",
   "execution_count": 3,
   "id": "e54477c2-a631-4e00-aa6c-a45c9a99c0e3",
   "metadata": {},
   "outputs": [
    {
     "data": {
      "text/plain": [
       "['220923123019-sim-0-HZ04-history.dat',\n",
       " '220924194223-sim-0-HZ04-history.dat',\n",
       " '220923123019-sim-0-HZ04-bunch-HZ04.dat',\n",
       " '220923183321-sim-git_hash.txt',\n",
       " '220924194223-sim-git_hash.txt',\n",
       " '220923183321-sim.py',\n",
       " '220923123019-sim.py',\n",
       " '220923183321-sim-0-HZ04-bunch-HZ04.dat',\n",
       " '220924194223-sim.py',\n",
       " '220923151759-sim-0-HZ04-bunch-HZ04.dat',\n",
       " 'figures',\n",
       " 'README.txt',\n",
       " '220923151759-sim-git_hash.txt',\n",
       " '220923183321-sim-0-HZ04-history.dat',\n",
       " '220923151759-sim.py',\n",
       " '220923123019-sim-git_hash.txt',\n",
       " '220923151759-sim-0-HZ04-history.dat',\n",
       " '220924194223-sim-0-HZ04-bunch-HZ04.dat']"
      ]
     },
     "execution_count": 3,
     "metadata": {},
     "output_type": "execute_result"
    }
   ],
   "source": [
    "folder = '/Users/46h/Dropbox (ORNL)/work/btf/btf-sim/2022-09-23_RFQbunch_MEBT1_vary_optics/'    \n",
    "os.listdir(folder)"
   ]
  },
  {
   "cell_type": "code",
   "execution_count": null,
   "id": "4cdad3e5-0d24-4fd3-ac5f-a7b23a1a558e",
   "metadata": {},
   "outputs": [],
   "source": [
    "fig_path = os.path.join(folder, 'figures')\n",
    "if not os.path.isdir(fig_path):\n",
    "    os.mkdir(fig_path)"
   ]
  },
  {
   "cell_type": "code",
   "execution_count": null,
   "id": "994c9f0d-2071-4976-9056-ae31bf7545be",
   "metadata": {},
   "outputs": [],
   "source": [
    "def save(figname):\n",
    "    plt.savefig(os.path.join(fig_path, f'{figname}.png'))\n",
    "    return"
   ]
  },
  {
   "cell_type": "markdown",
   "id": "854fec04-6d53-4f83-9a35-b174bb387758",
   "metadata": {},
   "source": [
    "## Load data"
   ]
  },
  {
   "cell_type": "code",
   "execution_count": null,
   "id": "8d1d721a-043b-4dc9-a20d-891bc0f34744",
   "metadata": {},
   "outputs": [],
   "source": [
    "timestamps = [\n",
    "    '220923123019',  # nominal optics,\n",
    "    '220923151759',  # flipped quad polarities\n",
    "    '220923183321',  # quadrupoles turned off\n",
    "    '220924194223',  # x-x' <--> y-y' in inital beam\n",
    "]\n",
    "\n",
    "def get_prefix(timestamp):\n",
    "    return f'{timestamp}-sim-0-HZ04'\n",
    "\n",
    "timestamp = '220924194223'\n",
    "prefix = get_prefix(timestamp)\n",
    "node = 'HZ04'"
   ]
  },
  {
   "cell_type": "code",
   "execution_count": null,
   "id": "62b886de-1487-484c-906b-51fa87e0cdeb",
   "metadata": {},
   "outputs": [],
   "source": [
    "filenames = {\n",
    "    'bunch': os.path.join(folder, f'{prefix}-bunch-{node}.dat'),\n",
    "    'history': os.path.join(folder, f'{prefix}-history.dat'),\n",
    "}"
   ]
  },
  {
   "cell_type": "code",
   "execution_count": null,
   "id": "41fd46d5-b0c6-4cea-afda-756d1ad3570e",
   "metadata": {},
   "outputs": [],
   "source": [
    "history = load_history(filenames['history'])\n",
    "history.head()"
   ]
  },
  {
   "cell_type": "code",
   "execution_count": null,
   "id": "9690a89a-53d9-43c6-8a9c-94f1c2d2b97d",
   "metadata": {},
   "outputs": [],
   "source": [
    "X = load_bunch(filenames['bunch'])\n",
    "print('X.shape =', X.shape)"
   ]
  },
  {
   "cell_type": "markdown",
   "id": "d10dacf4-2938-43d4-ad8d-189078a21d8a",
   "metadata": {},
   "source": [
    "## History"
   ]
  },
  {
   "cell_type": "code",
   "execution_count": null,
   "id": "eeda0b2f-9cc9-45cf-be7f-ead966c17c42",
   "metadata": {},
   "outputs": [],
   "source": [
    "fig_kws = dict(figsize=(2.75, 2))\n",
    "plot_kws = dict(marker='.', ms=1, lw=0)"
   ]
  },
  {
   "cell_type": "code",
   "execution_count": null,
   "id": "a6670299-0858-4624-bb86-f8793aab71c9",
   "metadata": {},
   "outputs": [],
   "source": [
    "fig, ax = pplt.subplots(**fig_kws)\n",
    "for dim in ['x', 'y', 'z']:\n",
    "    data = history[f'eps_{dim}'].values\n",
    "    data /= data[0]\n",
    "    ax.plot(history['s'], data, label=r'$\\varepsilon_{}$'.format(dim), **plot_kws)\n",
    "ax.legend(ncol=1, loc='upper left', ms=3)\n",
    "ax.format(xlabel='Distance [m]', ylabel='Relative growth')\n",
    "save(f'{timestamp}_relative_rms_emittance_growth')"
   ]
  },
  {
   "cell_type": "code",
   "execution_count": null,
   "id": "51b29fdf-2da3-4daa-b33b-db551857f0ed",
   "metadata": {},
   "outputs": [],
   "source": [
    "fig, ax = pplt.subplots(**fig_kws)\n",
    "for i, dim in enumerate(['x', 'y', 'z']):\n",
    "    i *= 2\n",
    "    col = f'sig_{i}{i}'\n",
    "    data = np.sqrt(history[col].values)\n",
    "    data *= 1e3  # convert [m] to [mm]\n",
    "    ax.plot(history['s'], data, label=r'${}$'.format(dim), **plot_kws)\n",
    "ax.legend(ncol=1, loc='upper left')\n",
    "ax.format(xlabel='Distance [m]', ylabel='RMS beam size [mm]')\n",
    "save(f'{timestamp}_rms_beam_size')"
   ]
  },
  {
   "cell_type": "code",
   "execution_count": null,
   "id": "683c921b-24a1-45e5-b39d-2a9fd01f3392",
   "metadata": {},
   "outputs": [],
   "source": [
    "fig, axes = pplt.subplots(ncols=2, figsize=(5, 2), sharey=False)\n",
    "for ax, param in zip(axes, ['beta', 'alpha']):\n",
    "    for dim in ['x', 'y']:\n",
    "        col = f'{param}_{dim}'\n",
    "        xdata = history['s'].values\n",
    "        ydata = history[col].values\n",
    "        ax.plot(xdata, ydata, label=r'$\\{}_{}$'.format(param, dim))\n",
    "    ax.legend(ncol=1, loc='upper left', handlelength=1.5)\n",
    "axes.format(xlabel='Distance [m]')\n",
    "axes[0].format(ylabel='[m/rad]')\n",
    "save(f'{timestamp}_twiss_beta_alpha')"
   ]
  },
  {
   "cell_type": "markdown",
   "id": "6f9d1d89-0a8f-476b-9ad0-cae148d4df27",
   "metadata": {},
   "source": [
    "## Bunch"
   ]
  },
  {
   "cell_type": "code",
   "execution_count": null,
   "id": "304e9574-a80a-4edc-af7f-6a873abd0d12",
   "metadata": {},
   "outputs": [],
   "source": [
    "dims = [\"x\", \"x'\", \"y\", \"y'\", \"z\", \"dE\"]\n",
    "units = [\"mm\", \"mrad\", \"mm\", \"mrad\", \"mm\", \"keV\"]\n",
    "labels = [f'{d} [{u}]' for d, u in zip(dims, units)]"
   ]
  },
  {
   "cell_type": "markdown",
   "id": "4ba60b60-d617-4b05-95c6-5ebf649e78a0",
   "metadata": {},
   "source": [
    "### Interactive"
   ]
  },
  {
   "cell_type": "code",
   "execution_count": null,
   "id": "59832832-5d28-46ea-9d14-c9f85f764e3d",
   "metadata": {},
   "outputs": [],
   "source": [
    "prof_kws=dict(lw=0.7, alpha=0.6, color='white', scale=0.09)\n",
    "\n",
    "mplt.interactive_proj2d_discrete(\n",
    "    X,\n",
    "    nbins=33,\n",
    "    dims=dims,\n",
    "    units=units,\n",
    "    prof_kws=prof_kws,\n",
    ")"
   ]
  },
  {
   "cell_type": "markdown",
   "id": "96f9acf9-de5d-43c4-9c42-b7832c50e957",
   "metadata": {},
   "source": [
    "### x-y-z "
   ]
  },
  {
   "cell_type": "code",
   "execution_count": null,
   "id": "6ce15398-6b38-4f81-b102-4f062f91598a",
   "metadata": {},
   "outputs": [],
   "source": [
    "limits = mplt.auto_limits(X, zero_center=True)\n",
    "limits"
   ]
  },
  {
   "cell_type": "code",
   "execution_count": null,
   "id": "49aed547-7d12-4035-86bd-7dd6ec11fc2b",
   "metadata": {},
   "outputs": [],
   "source": [
    "from beamphys import dist\n",
    "\n",
    "bins = [40, 40, 40]\n",
    "\n",
    "for axis in [(0, 2, 4), (0, 4, 2), (2, 4, 0)]:\n",
    "\n",
    "    H, edges = bd.histogram(X[:, axis], bins=bins, binrange=[limits[i] for i in axis])\n",
    "    centers = [utils.get_bin_centers(e) for e in edges]\n",
    "    H = H / np.max(H)\n",
    "\n",
    "    ncols = 5\n",
    "    trim = int(0.33 * (H.shape[-1]))\n",
    "    ii = np.linspace(trim, H.shape[-1] - 1 - trim, ncols).astype(int)\n",
    "\n",
    "    fig, axes = pplt.subplots(ncols=ncols, figwidth=(8.0 / 5.0)*ncols)\n",
    "    for ax, i in zip(axes, ii):\n",
    "        mplt.plot_image(H[:, :, i], x=centers[0], y=centers[1], ax=ax, vmax=1.0)\n",
    "        text = rf'{dims[axis[-1]]}$\\approx {centers[-1][i]:.1f}$ [{units[axis[-1]]}]'\n",
    "        # ax.annotate(text, xy=(0.02, 0.98), xycoords='axes fraction', color='white', verticalalignment='top')\n",
    "        ax.format(title=text, title_kw=dict(fontsize='medium'))\n",
    "    axes.format(\n",
    "        xlabel=labels[axis[0]],\n",
    "        ylabel=labels[axis[1]],\n",
    "    )\n",
    "    save(f'{timestamp}_{dims[axis[0]]}_{dims[axis[1]]}_{dims[axis[-1]]}slice.png')"
   ]
  },
  {
   "cell_type": "markdown",
   "id": "edf4303d-057d-47c2-b0d0-3cfe44a7f1a0",
   "metadata": {
    "tags": []
   },
   "source": [
    "### Corner"
   ]
  },
  {
   "cell_type": "code",
   "execution_count": null,
   "id": "420e09f4-2986-4b3b-acbe-5090c27f3e1b",
   "metadata": {},
   "outputs": [],
   "source": [
    "cmap = pplt.Colormap('mono', left=0.065, right=0.9)\n",
    "cmap"
   ]
  },
  {
   "cell_type": "code",
   "execution_count": null,
   "id": "378051a4-9d91-4a8a-b787-fb326a3afb39",
   "metadata": {},
   "outputs": [],
   "source": [
    "axes = mplt.corner(\n",
    "    X, labels=labels, kind='hist',\n",
    "    mask_zero=True,\n",
    "    cmap=cmap,\n",
    ")\n",
    "axes.format(xlabel_kw=dict(fontsize='large'), ylabel_kw=dict(fontsize='large'))\n",
    "save(f'{timestamp}_corner_{node}')"
   ]
  },
  {
   "cell_type": "code",
   "execution_count": null,
   "id": "e97b48a7-d2b3-4542-9667-b9c03046a3b2",
   "metadata": {},
   "outputs": [],
   "source": []
  }
 ],
 "metadata": {
  "kernelspec": {
   "display_name": "Python 3 (ipykernel)",
   "language": "python",
   "name": "python3"
  },
  "language_info": {
   "codemirror_mode": {
    "name": "ipython",
    "version": 3
   },
   "file_extension": ".py",
   "mimetype": "text/x-python",
   "name": "python",
   "nbconvert_exporter": "python",
   "pygments_lexer": "ipython3",
   "version": "3.9.12"
  }
 },
 "nbformat": 4,
 "nbformat_minor": 5
}
