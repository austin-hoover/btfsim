{
 "cells": [
  {
   "cell_type": "markdown",
   "id": "5e7a588b-bee5-4738-be93-26e8ec1852a8",
   "metadata": {},
   "source": [
    "# Core hollowing in the early MEBT"
   ]
  },
  {
   "cell_type": "markdown",
   "id": "704ba317-ffa7-4fcf-80a9-a759fe108c19",
   "metadata": {},
   "source": [
    "We see longitudinal and, to some extend, transverse hollowing in our measurements at slit HZ04, 1.4 meters downstream of the RFQ. This notebook explores the space charge dependence of these features using RFQ simulations. The simulations were performed using the PARMTEQ code with approximately 9 million macroparticles. "
   ]
  },
  {
   "cell_type": "code",
   "execution_count": null,
   "id": "191f7176-fd50-443c-bbdc-5aacfcce6bd7",
   "metadata": {},
   "outputs": [],
   "source": [
    "import sys\n",
    "import os\n",
    "from os.path import join\n",
    "from pprint import pprint\n",
    "from tqdm.notebook import tqdm\n",
    "from tqdm.notebook import trange\n",
    "import importlib\n",
    "import numpy as np\n",
    "import pandas as pd\n",
    "import seaborn as sns\n",
    "import matplotlib.pyplot as plt\n",
    "import proplot as pplt\n",
    "from ipywidgets import widgets\n",
    "from ipywidgets import interactive\n",
    "\n",
    "sys.path.append('/Users/46h/Research/')\n",
    "from beamphys import plotting as mplt\n",
    "from beamphys import utils\n",
    "\n",
    "pplt.rc['grid'] = False\n",
    "pplt.rc['cmap.discrete'] = False\n",
    "pplt.rc['cmap.sequential'] = 'viridis'\n",
    "pplt.rc['figure.facecolor'] = 'white'\n",
    "pplt.rc['savefig.dpi'] = 'figure'\n",
    "\n",
    "# pplt.rc['pdf.fonttype'] = 42"
   ]
  },
  {
   "cell_type": "markdown",
   "id": "854fec04-6d53-4f83-9a35-b174bb387758",
   "metadata": {},
   "source": [
    "## Load data"
   ]
  },
  {
   "cell_type": "code",
   "execution_count": null,
   "id": "d8c54d80-dd12-4a15-9957-6e47a8a4ed3b",
   "metadata": {},
   "outputs": [],
   "source": [
    "beam_currents = [0, 22, 26, 42, 50]\n",
    "beam_currents_str = [f'{c}mA' for c in beam_currents]"
   ]
  },
  {
   "cell_type": "code",
   "execution_count": null,
   "id": "e54477c2-a631-4e00-aa6c-a45c9a99c0e3",
   "metadata": {},
   "outputs": [],
   "source": [
    "folder = '/Users/46h/Dropbox (ORNL)/work/btf/simulations/2022-09-20/'\n",
    "filenames = dict()\n",
    "for current in beam_currents_str:\n",
    "    _folder = join(folder, current)\n",
    "    _filenames = os.listdir(_folder)\n",
    "    filenames[current] = dict()\n",
    "    for _filename in _filenames:\n",
    "        # print(_filename)\n",
    "        if _filename.endswith('.py'):\n",
    "            continue\n",
    "        if _filename.split('.dat')[0].endswith('history'):\n",
    "            filenames[current]['history'] = join(_folder, _filename)\n",
    "        elif 'bunch' in _filename:\n",
    "            node = _filename.split('.dat')[0].split('bunch_')[-1]\n",
    "            if node.startswith('MEBT:'):\n",
    "                node = node.split('MEBT:')[-1]\n",
    "            filenames[current][node] = join(_folder, _filename)\n",
    "        else:\n",
    "            pass\n",
    "            \n",
    "print('filenames:')\n",
    "pprint(filenames)"
   ]
  },
  {
   "cell_type": "markdown",
   "id": "21455797-43d2-4817-bd3f-f1cf892058f1",
   "metadata": {},
   "source": [
    "## RMS "
   ]
  },
  {
   "cell_type": "code",
   "execution_count": null,
   "id": "d17d41aa-1568-45ca-8de5-148a8c37eb6c",
   "metadata": {},
   "outputs": [],
   "source": [
    "def load_history(filename):\n",
    "    df = pd.read_table(filename, sep=' ')\n",
    "    # # Convert rms x and y emittance from m-rad to mm-mrad\n",
    "    # df[['eps_x', 'eps_y']] *= 1e3 * 1e3  \n",
    "    # # Convert rms z emittance from m-GeV to mm-keV\n",
    "    # df[['eps_z']] *= 1e3 * 1e6\n",
    "    return df"
   ]
  },
  {
   "cell_type": "code",
   "execution_count": null,
   "id": "d98dfb60-43cd-4256-9a14-434d86bbb7cc",
   "metadata": {},
   "outputs": [],
   "source": [
    "figwidth = 8.0"
   ]
  },
  {
   "cell_type": "code",
   "execution_count": null,
   "id": "41fd46d5-b0c6-4cea-afda-756d1ad3570e",
   "metadata": {},
   "outputs": [],
   "source": [
    "fig, axes = pplt.subplots(ncols=len(filenames), figwidth=figwidth)\n",
    "for ax, current in zip(axes, beam_currents_str):\n",
    "    history = load_history(filenames[current]['history'])\n",
    "    for dim in ['x', 'y', 'z']:\n",
    "        data = history[f'eps_{dim}'].values\n",
    "        ax.plot(history['s'], data / data[0], label=r'$\\varepsilon_{}$'.format(dim), marker='.', ms=1, lw=0, alpha=1.0)\n",
    "axes[0].legend(ncol=1, loc='upper left', ms=3)\n",
    "axes.format(xlabel='Distance [m]', ylabel='Relative growth', toplabels=beam_currents_str)\n",
    "plt.savefig('_output/relative_rms_emittance_growth.png')\n",
    "plt.show()"
   ]
  },
  {
   "cell_type": "code",
   "execution_count": null,
   "id": "c05ce8e8-2ddd-4fc7-882f-343861ac9db6",
   "metadata": {},
   "outputs": [],
   "source": [
    "print(sorted(history.columns))"
   ]
  },
  {
   "cell_type": "code",
   "execution_count": null,
   "id": "0002f25f-7761-4bfc-b8e0-074e27184a74",
   "metadata": {},
   "outputs": [],
   "source": [
    "fig, axes = pplt.subplots(ncols=len(filenames), figwidth=figwidth)\n",
    "for ax, current in zip(axes, beam_currents_str):\n",
    "    history = load_history(filenames[current]['history'])\n",
    "    for i, dim in enumerate(['x', 'y', 'z']):\n",
    "        i *= 2\n",
    "        col = f'sig_{i}{i}'\n",
    "        data = np.sqrt(history[col].values)\n",
    "        data *= 1e3  # convert [m] to [mm]\n",
    "        ax.plot(history['s'], data, label=r'${}$'.format(dim))\n",
    "axes[0].legend(ncol=1, loc='upper left')\n",
    "axes.format(xlabel='Distance [m]', ylabel='RMS beam size [mm]', toplabels=beam_currents_str)\n",
    "plt.savefig('_output/rms_beam_size.png')\n",
    "plt.show()"
   ]
  },
  {
   "cell_type": "markdown",
   "id": "6f9d1d89-0a8f-476b-9ad0-cae148d4df27",
   "metadata": {},
   "source": [
    "## Distribution "
   ]
  },
  {
   "cell_type": "code",
   "execution_count": null,
   "id": "6b7c0084-65c0-4d98-94d6-bc962e04803f",
   "metadata": {},
   "outputs": [],
   "source": [
    "def load_bunch(filename, dims=None, dframe=False):\n",
    "    names = [\"x\", \"xp\", \"y\", \"yp\", \"z\", \"dE\"]\n",
    "    cols = list(range(6))\n",
    "    if dims is not None:\n",
    "        cols = [d if type(d) is int else names.index(d) for d in dims]\n",
    "    names = [names[c] for c in cols]\n",
    "    df = pd.read_table(filename, sep=' ', skiprows=14, usecols=cols, names=names)\n",
    "    # Convert to mm, mrad, keV\n",
    "    for col in ['x', 'xp', 'y', 'yp', 'z']:\n",
    "        if col in df.columns:\n",
    "            df[col] *= 1e3\n",
    "    if 'dE' in df.columns:\n",
    "        df['dE'] *= 1e6\n",
    "    if dframe:\n",
    "        return df\n",
    "    return df.values"
   ]
  },
  {
   "cell_type": "code",
   "execution_count": null,
   "id": "06008a66-c056-4ec9-8d24-3e222a6657ff",
   "metadata": {},
   "outputs": [],
   "source": [
    "dims = [\"x\", \"x'\", \"y\", \"y'\", \"z\", \"dE\"]\n",
    "units = [\"mm\", \"mrad\", \"mm\", \"mrad\", \"mm\", \"keV\"]\n",
    "labels = [f'{d} [{u}]' for d, u in zip(dims, units)]"
   ]
  },
  {
   "cell_type": "code",
   "execution_count": null,
   "id": "efff5016-c6f3-44ae-b952-96ba2dbb865f",
   "metadata": {},
   "outputs": [],
   "source": [
    "nodes = ['init', 'QH01', 'QV02', 'QH03', 'QV04', 'HZ04']"
   ]
  },
  {
   "cell_type": "code",
   "execution_count": null,
   "id": "373c7237-bb58-4dc5-bcf6-679b2988ac13",
   "metadata": {},
   "outputs": [],
   "source": [
    "plot_kws = dict(\n",
    "    prof_kws=dict(lw=0.8, alpha=0.4, color='white'),\n",
    "    mask_zero=False,\n",
    "    # cmap=pplt.Colormap('mono', left=0.03, right=0.85),\n",
    ")\n",
    "nbins = 33"
   ]
  },
  {
   "cell_type": "code",
   "execution_count": null,
   "id": "0a282feb-7533-47a0-a778-acff201292b4",
   "metadata": {},
   "outputs": [],
   "source": [
    "node = 'QV02'"
   ]
  },
  {
   "cell_type": "code",
   "execution_count": null,
   "id": "3b595e03-60a6-487e-ba90-26faf8525cd2",
   "metadata": {},
   "outputs": [],
   "source": [
    "mplt.interactive_proj2d_discrete(\n",
    "    load_bunch(filenames['0mA'][node]),\n",
    "    dims=dims,\n",
    "    units=units,\n",
    "    nbins=nbins,\n",
    "    **plot_kws\n",
    ")"
   ]
  },
  {
   "cell_type": "code",
   "execution_count": null,
   "id": "2450e09e-0027-4c6d-b1f3-7573c6d91a69",
   "metadata": {},
   "outputs": [],
   "source": [
    "mplt.interactive_proj2d_discrete(\n",
    "    load_bunch(filenames['22mA'][node]),\n",
    "    dims=dims,\n",
    "    units=units,\n",
    "    nbins=nbins,\n",
    "    **plot_kws\n",
    ")"
   ]
  },
  {
   "cell_type": "code",
   "execution_count": null,
   "id": "bf50f311-65a6-4c6e-98a7-242bb4218606",
   "metadata": {},
   "outputs": [],
   "source": [
    "mplt.interactive_proj2d_discrete(\n",
    "    load_bunch(filenames['26mA'][node]),\n",
    "    dims=dims,\n",
    "    units=units,\n",
    "    nbins=nbins,\n",
    "    **plot_kws\n",
    ")"
   ]
  },
  {
   "cell_type": "code",
   "execution_count": null,
   "id": "36943fb8-5af7-4cf0-abce-7758e29c3754",
   "metadata": {},
   "outputs": [],
   "source": [
    "mplt.interactive_proj2d_discrete(\n",
    "    load_bunch(filenames['42mA'][node]),\n",
    "    dims=dims,\n",
    "    units=units,\n",
    "    nbins=nbins,\n",
    "    **plot_kws\n",
    ")"
   ]
  },
  {
   "cell_type": "code",
   "execution_count": null,
   "id": "72be319d-11d3-4d3f-8c2e-780113b23b37",
   "metadata": {},
   "outputs": [],
   "source": [
    "mplt.interactive_proj2d_discrete(\n",
    "    load_bunch(filenames['50mA'][node]),\n",
    "    dims=dims,\n",
    "    units=units,\n",
    "    nbins=nbins,\n",
    "    **plot_kws\n",
    ")"
   ]
  },
  {
   "cell_type": "markdown",
   "id": "70bd0d2b-47ab-4eb6-9a06-d9dc6de4edae",
   "metadata": {},
   "source": [
    "Eh, why not load everything into memory. Can change if it's too much."
   ]
  },
  {
   "cell_type": "code",
   "execution_count": null,
   "id": "0c9c1345-1202-4b7b-bd5a-943069e513d0",
   "metadata": {},
   "outputs": [],
   "source": [
    "coords = dict()\n",
    "for current in tqdm(beam_currents_str):\n",
    "    coords[current] = dict()\n",
    "    for node in tqdm(nodes):\n",
    "        X = load_bunch(filenames[beam_current][node])\n",
    "        coords[current][node] = X.copy()"
   ]
  },
  {
   "cell_type": "markdown",
   "id": "d5f2cfda-c2a4-4ad8-86e0-317c10471a64",
   "metadata": {},
   "source": [
    "Compute limits from coordinates."
   ]
  },
  {
   "cell_type": "code",
   "execution_count": null,
   "id": "6e6ced6a-b4b9-4363-82ad-b4e90ed8366e",
   "metadata": {},
   "outputs": [],
   "source": [
    "current = '26mA'\n",
    "pairs = [(0, 2), (0, 1), (2, 3), (4, 5)]\n",
    "\n",
    "limits = mplt.auto_limits(\n",
    "    np.vstack([\n",
    "        coords[current][node] \n",
    "        for current in beam_currents_str\n",
    "        for node in nodes\n",
    "    ]),\n",
    "    zero_center=True,\n",
    ")\n",
    "\n",
    "fig, axes = pplt.subplots(ncols=len(nodes), nrows=len(pairs), figwidth=9, share=False, space=0)\n",
    "axes.format(toplabels=nodes, leftlabels=[f'{dims[p[0]]}-{dims[p[1]]}' for p in pairs],\n",
    "            leftlabels_kw=dict(rotation=0))\n",
    "for j, node in enumerate(tqdm(nodes[:])):\n",
    "    X = coords[current][node]\n",
    "    for i, cols in enumerate(tqdm(pairs)):\n",
    "        _X = X[:, cols]\n",
    "        sns.histplot(\n",
    "            x=_X[:, 0], y=_X[:, 1], ax=axes[i, j], bins='auto', \n",
    "            # binrange=(limits[cols[0]], limits[cols[1]])\n",
    "        )\n",
    "for i, cols in enumerate(pairs):\n",
    "    axes[i, :].format(xlim=limits[cols[0]], ylim=limits[cols[1]])\n",
    "axes.format(xticks=[], yticks=[])\n",
    "plt.show()"
   ]
  },
  {
   "cell_type": "markdown",
   "id": "b3a9d869-6b17-42cb-8a8e-3b5338f62fdc",
   "metadata": {},
   "source": [
    "### Interactive"
   ]
  },
  {
   "cell_type": "code",
   "execution_count": null,
   "id": "9e3bb2a0-e517-4301-acf2-1ad65c728922",
   "metadata": {},
   "outputs": [],
   "source": [
    "mplt.interactive_proj2d_discrete(\n",
    "    coords['0mA']['HZ04'],\n",
    "    # limits=None,\n",
    "    slice_type=\"int\",\n",
    "    dims=dims,\n",
    "    units=units,\n",
    ")"
   ]
  },
  {
   "cell_type": "code",
   "execution_count": null,
   "id": "0dfa2691-93e4-4290-aeeb-c05259da9f71",
   "metadata": {},
   "outputs": [],
   "source": []
  },
  {
   "cell_type": "code",
   "execution_count": null,
   "id": "f0a85637-4e1e-4d11-bb0c-f7afa234bd30",
   "metadata": {},
   "outputs": [],
   "source": []
  },
  {
   "cell_type": "code",
   "execution_count": null,
   "id": "39e9e79b-0c74-436d-b436-5013be42afab",
   "metadata": {},
   "outputs": [],
   "source": []
  },
  {
   "cell_type": "code",
   "execution_count": null,
   "id": "e4508f89-2028-4474-ae7d-a0ebdcc893be",
   "metadata": {},
   "outputs": [],
   "source": []
  },
  {
   "cell_type": "code",
   "execution_count": null,
   "id": "4629eed5-f502-4e45-9d88-29992bc37d0f",
   "metadata": {},
   "outputs": [],
   "source": []
  },
  {
   "cell_type": "code",
   "execution_count": null,
   "id": "378051a4-9d91-4a8a-b787-fb326a3afb39",
   "metadata": {},
   "outputs": [],
   "source": [
    "axes = mplt.corner(\n",
    "    X, labels=labels, kind='hist',\n",
    "    mask_zero=True,\n",
    ")\n",
    "plt.savefig('_output/corner.png')"
   ]
  },
  {
   "cell_type": "markdown",
   "id": "88d1ae75-1baa-4051-983f-96c9e286b075",
   "metadata": {},
   "source": [
    "5D distribution (beware large grids)"
   ]
  },
  {
   "cell_type": "code",
   "execution_count": null,
   "id": "6c76381d-2e02-45cb-a0a2-31da489c2689",
   "metadata": {},
   "outputs": [],
   "source": [
    "ind = (0, 1, 2, 3, 5)\n",
    "_dims = [dims[i] for i in ind]\n",
    "_units = [units[i] for i in ind]\n",
    "_labels = [labels[i] for i in ind]\n",
    "\n",
    "f, edges = np.histogramdd(X[:, ind], bins=34)\n",
    "f = f / np.max(f)\n",
    "\n",
    "_coords = [utils.get_bin_centers(e) for e in edges]"
   ]
  },
  {
   "cell_type": "code",
   "execution_count": null,
   "id": "fffce837-4427-4d32-b70f-31734ead8286",
   "metadata": {},
   "outputs": [],
   "source": [
    "mplt.interactive_proj2d(f, coords=_coords, dims=_dims, units=_units,\n",
    "                        slice_type='int')"
   ]
  },
  {
   "cell_type": "code",
   "execution_count": null,
   "id": "8103137b-706c-4652-917a-2a111ade7062",
   "metadata": {},
   "outputs": [],
   "source": [
    "axis = (0, 2, 4)\n",
    "_f = utils.project(f, axis=axis)\n",
    "_f = _f / np.max(_f)\n",
    "__coords = [_coords[i] for i in axis]\n",
    "__dims = [_dims[i] for i in axis]\n",
    "__dims[-1] = 'w'\n",
    "__units = [_units[i] for i in axis]\n",
    "__dims_units = [f'{d} [{u}]' for d, u in zip(__dims, __units)]\n",
    "\n",
    "ncols = 5\n",
    "start_stop = [\n",
    "    (4, len(__coords[0]) - 1 - 4),\n",
    "    (10, len(__coords[1]) - 1 - 10),\n",
    "    (25, len(__coords[2]) - 1 - 25),\n",
    "]\n",
    "\n",
    "cmap = 'viridis'\n",
    "for i, ((start, stop), c) in enumerate(zip(start_stop, __coords)):\n",
    "    fig, axes = pplt.subplots(ncols=ncols, nrows=1, figwidth=6.0)\n",
    "    jj = np.linspace(start, stop, ncols).astype(int)\n",
    "    for ax, j in zip(axes, jj):\n",
    "        idx = utils.make_slice(_f.ndim, i, int(j))\n",
    "        axis_view = [k for k in range(_f.ndim) if k != i]\n",
    "        mplt.plot_image(\n",
    "            _f[idx], \n",
    "            x=__coords[axis_view[0]], \n",
    "            y=__coords[axis_view[1]], \n",
    "            ax=ax,\n",
    "            vmin=0.0, vmax=1.0,\n",
    "            linewidth=0, rasterized=True,\n",
    "            cmap=cmap,\n",
    "            # colorbar=ax==axes[-1], \n",
    "            colorbar_kw=dict(\n",
    "                width=0.1, \n",
    "                # ticks=[0, 1],\n",
    "            ),\n",
    "            profx=True, profy=True, prof_kws=dict(lw=0.4, alpha=0.5, color='white', scale=0.09),\n",
    "        )\n",
    "        if ax.get_xlim()[1] < ax.get_xlim()[0]:\n",
    "            ax.format(xlim=sorted(ax.get_xlim()))\n",
    "        ax.annotate(r\"${} \\approx {:.0f}$ [{}]\".format(__dims[i], __coords[i][j], __units[i]), \n",
    "                    color='white', \n",
    "                    fontsize='small',\n",
    "                    xy=(0.02, 0.98), verticalalignment='top', xycoords='axes fraction')\n",
    "    axes.format(\n",
    "        xlabel=__dims_units[axis_view[0]], \n",
    "        ylabel=__dims_units[axis_view[1]],\n",
    "    )\n",
    "    plt.savefig(f'_output/{__dims[axis_view[0]]}{__dims[axis_view[1]]}_{__dims[i]}slice_{cmap}')\n",
    "    plt.show()"
   ]
  },
  {
   "cell_type": "code",
   "execution_count": null,
   "id": "770dee48-7b42-42c8-b7ed-3ad6053ba0c1",
   "metadata": {},
   "outputs": [],
   "source": []
  }
 ],
 "metadata": {
  "kernelspec": {
   "display_name": "Python 3 (ipykernel)",
   "language": "python",
   "name": "python3"
  },
  "language_info": {
   "codemirror_mode": {
    "name": "ipython",
    "version": 3
   },
   "file_extension": ".py",
   "mimetype": "text/x-python",
   "name": "python",
   "nbconvert_exporter": "python",
   "pygments_lexer": "ipython3",
   "version": "3.9.12"
  }
 },
 "nbformat": 4,
 "nbformat_minor": 5
}
