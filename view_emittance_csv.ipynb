{
 "cells": [
  {
   "cell_type": "code",
   "execution_count": null,
   "metadata": {},
   "outputs": [],
   "source": [
    "import sys\n",
    "import os\n",
    "from os.path import join\n",
    "import numpy as np\n",
    "import pandas as pd\n",
    "import seaborn as sns\n",
    "import matplotlib.pyplot as plt\n",
    "import proplot as pplt\n",
    "\n",
    "pplt.rc['grid'] = False\n",
    "pplt.rc['cmap.discrete'] = False\n",
    "pplt.rc['cmap.sequential'] = 'viridis'"
   ]
  },
  {
   "cell_type": "code",
   "execution_count": null,
   "metadata": {},
   "outputs": [],
   "source": [
    "filenames = [\n",
    "    'data/emittance/emittance-data-x-220701191915.csv',\n",
    "    'data/emittance/emittance-data-y-220701191040.csv',\n",
    "    'data/emittance/220726181156-longemittance-emittance-z-dE.csv',\n",
    "]\n",
    "dfs = [pd.read_csv(filename, index_col=0) for filename in filenames]\n",
    "labels = [(\"x [mm]\", \"xp [mrad]\"), (\"y [mm]\", \"yp [mrad]\"), (\"z [mm]\", \"w [MeV]\")]"
   ]
  },
  {
   "cell_type": "code",
   "execution_count": null,
   "metadata": {},
   "outputs": [],
   "source": [
    "norm = 'log'\n",
    "\n",
    "for df, _labels in zip(dfs, labels):\n",
    "    image = df.values\n",
    "    if norm == 'log':\n",
    "        image += np.min(image[image > 0])\n",
    "    fig, ax = pplt.subplots()\n",
    "    ax.pcolormesh(df.columns.astype(float), df.index.astype(float), image,\n",
    "                  colorbar=True, cmap='viridis', norm=norm)\n",
    "    ax.format(xlabel=_labels[0], ylabel=_labels[1])\n",
    "    if ax.get_xlim()[0] > ax.get_xlim()[1]:\n",
    "        ax.format(xlim=reversed(ax.get_xlim()))\n",
    "    plt.savefig(f'{_labels[0][:1]}.png')\n",
    "    plt.show()"
   ]
  },
  {
   "cell_type": "code",
   "execution_count": null,
   "metadata": {},
   "outputs": [],
   "source": []
  },
  {
   "cell_type": "code",
   "execution_count": null,
   "metadata": {},
   "outputs": [],
   "source": []
  }
 ],
 "metadata": {
  "kernelspec": {
   "display_name": "Python 3",
   "language": "python",
   "name": "python3"
  },
  "language_info": {
   "codemirror_mode": {
    "name": "ipython",
    "version": 3
   },
   "file_extension": ".py",
   "mimetype": "text/x-python",
   "name": "python",
   "nbconvert_exporter": "python",
   "pygments_lexer": "ipython3",
   "version": "3.7.6"
  }
 },
 "nbformat": 4,
 "nbformat_minor": 4
}
